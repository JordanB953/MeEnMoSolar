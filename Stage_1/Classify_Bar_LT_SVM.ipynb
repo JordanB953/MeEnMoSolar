{
 "cells": [
  {
   "cell_type": "code",
   "execution_count": 1,
   "metadata": {},
   "outputs": [],
   "source": [
    "# Hand-off Notes\n",
    "# This script was mainly written by David, I've added to it and added in come extra comments\n",
    "\n",
    "import numpy as np \n",
    "import pandas as pd \n",
    "import matplotlib.pyplot as plt \n",
    "import seaborn as sns \n",
    "from sklearn import preprocessing\n",
    "\n",
    "# Data used for training\n",
    "f = 'C:\\Users\\jrdnb\\CAU_Roof_ML_Methods\\Roof_Seg\\Stage_1\\2_Types_TrainingData_edited.csv' \n",
    "f2 = 'C:\\Users\\jrdnb\\CAU_Roof_ML_Methods\\Roof_Seg\\Stage_1\\2_Types_TrainingData_NoFlats.csv'\n",
    "f3 = 'C:\\Users\\jrdnb\\CAU_Roof_ML_Methods\\Roof_Seg\\Stage_1\\All_RoofTypes.csv'\n",
    "data = pd.read_csv(f3)\n",
    "data.head()\n",
    "\n",
    "# The raw data we will be predicting house_types for\n",
    "stage1_f = 'C:\\Users\\jrdnb\\CAU_Roof_ML_Methods\\Roof_Seg\\Stage_1\\Roof_Application_Set_Small.csv'\n",
    "stage1_data = pd.read_csv(stage1_f)"
   ]
  },
  {
   "cell_type": "code",
   "execution_count": 2,
   "metadata": {},
   "outputs": [
    {
     "name": "stdout",
     "output_type": "stream",
     "text": [
      "(184, 'train examples')\n",
      "(80, 'test examples')\n"
     ]
    }
   ],
   "source": [
    "#listing all the variables in the training data to use for the prediction\n",
    "features = ['bb_lngTOshrt_ratio','bbTOfp_ratio','ratio_3lngTO3hrt','fp_seg_num','fp_avg_seg_len_3long','fp_avg_seg_len_3short','seg_numTOunique_lengths']\n",
    "X = data[features]\n",
    "Y = data['house_type']\n",
    "stage1_X = stage1_data[features]\n",
    "\n",
    "from sklearn.model_selection import train_test_split\n",
    "X_train, X_test, Y_train, Y_test = train_test_split(X, Y, test_size=0.3, random_state=1)\n",
    "print(len(X_train), 'train examples')\n",
    "print(len(X_test), 'test examples')\n"
   ]
  },
  {
   "cell_type": "code",
   "execution_count": 3,
   "metadata": {},
   "outputs": [
    {
     "name": "stderr",
     "output_type": "stream",
     "text": [
      "C:\\Users\\jrdnb\\Anaconda2.0\\lib\\site-packages\\sklearn\\preprocessing\\data.py:645: DataConversionWarning: Data with input dtype int64, float64 were all converted to float64 by StandardScaler.\n",
      "  return self.partial_fit(X, y)\n",
      "C:\\Users\\jrdnb\\Anaconda2.0\\lib\\site-packages\\sklearn\\base.py:464: DataConversionWarning: Data with input dtype int64, float64 were all converted to float64 by StandardScaler.\n",
      "  return self.fit(X, **fit_params).transform(X)\n",
      "C:\\Users\\jrdnb\\Anaconda2.0\\lib\\site-packages\\ipykernel_launcher.py:4: DataConversionWarning: Data with input dtype int64, float64 were all converted to float64 by StandardScaler.\n",
      "  after removing the cwd from sys.path.\n",
      "C:\\Users\\jrdnb\\Anaconda2.0\\lib\\site-packages\\ipykernel_launcher.py:5: DataConversionWarning: Data with input dtype int64, float64 were all converted to float64 by StandardScaler.\n",
      "  \"\"\"\n"
     ]
    }
   ],
   "source": [
    "from sklearn.preprocessing import StandardScaler\n",
    "sc= StandardScaler()\n",
    "X_train = sc.fit_transform(X_train)\n",
    "X_test = sc.transform(X_test)\n",
    "stage1_X = sc.transform(stage1_X)"
   ]
  },
  {
   "cell_type": "code",
   "execution_count": 4,
   "metadata": {},
   "outputs": [
    {
     "name": "stdout",
     "output_type": "stream",
     "text": [
      "Linear SVM Prediction Accuracy = 75.0%\n",
      "RBF SVM Prediction Accuracy = 78.75%\n"
     ]
    }
   ],
   "source": [
    "from sklearn.svm import SVC\n",
    "classifier1=SVC(kernel ='rbf', C=1, gamma=1)\n",
    "classifier2=SVC(kernel ='linear', gamma=1)\n",
    "classifier1.fit(X_train, Y_train)\n",
    "classifier2.fit(X_train, Y_train)\n",
    "\n",
    "y_pred1= classifier1.predict(X_test)\n",
    "y_pred2= classifier2.predict(X_test)\n",
    "#print X_train\n",
    "#print y_pred1\n",
    "#c1 = pd.DataFrame({'house_type': y_pred1, 'house_id': X_train['house_id']}).to_csv('classification1.csv')\n",
    "#c2 = pd.DataFrame(y_pred2, columns=['house_type']).to_csv('classification2.csv')\n",
    "\n",
    "from sklearn.metrics import accuracy_score\n",
    "print('Linear SVM Prediction Accuracy = ' + str(round(accuracy_score(Y_test, y_pred1),4)*100) + '%')\n",
    "print('RBF SVM Prediction Accuracy = ' + str(round(accuracy_score(Y_test, y_pred2),4)*100) + '%')"
   ]
  },
  {
   "cell_type": "code",
   "execution_count": 6,
   "metadata": {},
   "outputs": [],
   "source": [
    "# Use the most accurate model to classify roof_types in the file Roof_Application_Set.csv\n",
    "# Going to use classifier1\n",
    "\n",
    "stage1_Y_pred = classifier1.predict(stage1_X)\n",
    "all_metrics = ['fp_seg_num','fp_perimeter_len','seg_numTOunique_lengths','fp_avg_seg_len_3long','fp_avg_seg_len_3short','ratio_3lngTO3hrt','footprint_area','boundingbox_area','bbTOfp_ratio','bb_rotation','vector','bb_0_180_axis_len','bb_90_270_axis_len','bb_lngTOshrt_ratio']\n",
    "stage1_all_data = stage1_data[all_metrics]\n",
    "\n",
    "#creating lists needed for the creation of the dataframe\n",
    "index = stage1_data['house_id']\n",
    "stage1_all_data_df = pd.DataFrame(stage1_all_data, columns=all_metrics, index=index)\n",
    "stage1_Y_pred_df = pd.DataFrame(stage1_Y_pred, columns=['house_type'], index=index)\n",
    "\n",
    "#merging the two dataframes into one (using concat because it doesn't throw errors like join or merge)\n",
    "stage1_final_df = pd.concat([stage1_all_data_df, stage1_Y_pred_df], axis=1, sort=False)\n",
    "#stage1_final_df.head()\n",
    "\n",
    "#Once these two dataframes are joined, then we want to split them up by 'house_type'\n",
    "stage1_R1_df = stage1_final_df[(stage1_final_df)['house_type']=='R1']\n",
    "stage1_R1C_df = stage1_final_df[(stage1_final_df)['house_type']=='R1C']\n",
    "stage1_R2_df = stage1_final_df[(stage1_final_df)['house_type']=='R2']\n",
    "stage1_RMC_df = stage1_final_df[(stage1_final_df)['house_type']=='RMC']\n",
    "\n",
    "#Save these dataframes as .csv files to be used in Stage 2\n",
    "#RMC_Y_test = pd.DataFrame(RMC_Y_test, columns=['ratio_flat','ratio_0*','ratio_90*','ratio_180*','ratio_270*']).to_csv('RMC_Y_test.csv')\n",
    "\n",
    "stage1_R1_df.to_csv('stage1_R1.csv')\n",
    "stage1_R1C_df.to_csv('stage1_R1C.csv')\n",
    "stage1_R2_df.to_csv('stage1_R2.csv')\n",
    "stage1_RMC_df.to_csv('stage1_RMC.csv')\n",
    "\n"
   ]
  },
  {
   "cell_type": "code",
   "execution_count": null,
   "metadata": {},
   "outputs": [],
   "source": []
  },
  {
   "cell_type": "code",
   "execution_count": null,
   "metadata": {},
   "outputs": [],
   "source": []
  }
 ],
 "metadata": {
  "kernelspec": {
   "display_name": "Python 2",
   "language": "python",
   "name": "python2"
  },
  "language_info": {
   "codemirror_mode": {
    "name": "ipython",
    "version": 2
   },
   "file_extension": ".py",
   "mimetype": "text/x-python",
   "name": "python",
   "nbconvert_exporter": "python",
   "pygments_lexer": "ipython2",
   "version": "2.7.16"
  }
 },
 "nbformat": 4,
 "nbformat_minor": 2
}
